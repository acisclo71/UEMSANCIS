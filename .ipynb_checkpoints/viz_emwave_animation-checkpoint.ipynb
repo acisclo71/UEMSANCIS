{
 "cells": [
  {
   "cell_type": "code",
   "execution_count": 1,
   "metadata": {},
   "outputs": [],
   "source": [
    "%matplotlib inline"
   ]
  },
  {
   "cell_type": "markdown",
   "metadata": {},
   "source": [
    "\n",
    "# Electromagnetic Wave Propagation Animation\n",
    "\n",
    "A linearly polarized sinusoidal electromagnetic wave, propagating in the\n",
    "direction +x through a homogeneous, isotropic, dissipationless medium,\n",
    "such as vacuum. The electric field (blue arrows) oscillates in the\n",
    "±z-direction, and the orthogonal magnetic field (red arrows) oscillates in\n",
    "phase with the electric field, but in the ±y-direction.\n",
    "\n",
    "Function of the sinusoid used in the animation = sin(k*x - w*t + d)\n",
    "Where, k:wavenumber, x:abscissa, w:angular frequency, t:time, d:phase angle\n",
    "\n",
    "Importing necessary modules\n"
   ]
  },
  {
   "cell_type": "code",
   "execution_count": 2,
   "metadata": {},
   "outputs": [],
   "source": [
    "from fury import window, actor, utils, ui\n",
    "import numpy as np\n",
    "import itertools"
   ]
  },
  {
   "cell_type": "markdown",
   "metadata": {},
   "source": [
    "function that updates and returns the coordinates of the waves which are\n",
    "changing with time\n",
    "\n"
   ]
  },
  {
   "cell_type": "code",
   "execution_count": null,
   "metadata": {},
   "outputs": [],
   "source": [
    "def update_coordinates(wavenumber, ang_frq, time, phase_angle):\n",
    "    x = np.linspace(-3, 3, npoints)\n",
    "    y = np.sin(wavenumber*x - ang_frq*time + phase_angle)\n",
    "    z = np.array([0 for i in range(npoints)])\n",
    "    return x, y, z"
   ]
  },
  {
   "cell_type": "markdown",
   "metadata": {},
   "source": [
    "Variable(s) and their description-\n",
    "npoints: For high quality rendering, keep the number of npoints high\n",
    "         but kindly note that higher values for npoints will slow down the\n",
    "         rendering process (default = 800)\n",
    "wavelength : wavelength of the wave (default = 2)\n",
    "wavenumber : 2*pi/wavelength\n",
    "time: time (default time i.e. time at beginning of the animation = 0)\n",
    "incre_time: value by which time is incremented for each call of\n",
    "            timer_callback (default = 0.1)\n",
    "angular_frq: angular frequency (default = 0.1)\n",
    "phase_angle: phase angle (default = 0.002)\n",
    "\n"
   ]
  },
  {
   "cell_type": "code",
   "execution_count": null,
   "metadata": {},
   "outputs": [],
   "source": [
    "npoints = 800\n",
    "wavelength = 2\n",
    "wavenumber = 2*np.pi/wavelength\n",
    "time = 0\n",
    "incre_time = 0.1\n",
    "angular_frq = 0.1\n",
    "phase_angle = 0.002"
   ]
  },
  {
   "cell_type": "markdown",
   "metadata": {},
   "source": [
    "Creating a scene object and configuring the camera's position\n",
    "\n"
   ]
  },
  {
   "cell_type": "code",
   "execution_count": null,
   "metadata": {},
   "outputs": [],
   "source": [
    "scene = window.Scene()\n",
    "scene.set_camera(position=(-6, 5, -10), focal_point=(0.0, 0.0, 0.0),\n",
    "                 view_up=(0.0, 0.0, 0.0))\n",
    "showm = window.ShowManager(scene,\n",
    "                           size=(800, 600), reset_camera=True,\n",
    "                           order_transparent=True)\n",
    "showm.initialize()"
   ]
  },
  {
   "cell_type": "markdown",
   "metadata": {},
   "source": [
    "Creating a yellow colored arrow to show the direction of propagation of\n",
    "electromagnetic wave\n",
    "\n"
   ]
  },
  {
   "cell_type": "code",
   "execution_count": null,
   "metadata": {},
   "outputs": [],
   "source": [
    "centers = np.array([[3, 0, 0]])\n",
    "directions = np.array([[-1, 0, 0]])\n",
    "heights = np.array([6.4])\n",
    "arrow_actor = actor.arrow(centers, directions, window.colors.yellow, heights,\n",
    "                          resolution=20, tip_length=0.06, tip_radius=0.012,\n",
    "                          shaft_radius=0.005)\n",
    "scene.add(arrow_actor)"
   ]
  },
  {
   "cell_type": "markdown",
   "metadata": {},
   "source": [
    "Creating point actor that renders the magnetic field\n",
    "\n"
   ]
  },
  {
   "cell_type": "code",
   "execution_count": null,
   "metadata": {},
   "outputs": [],
   "source": [
    "x = np.linspace(-3, 3, npoints)\n",
    "y = np.sin(wavenumber*x - angular_frq*time + phase_angle)\n",
    "z = np.array([0 for i in range(npoints)])\n",
    "\n",
    "pts = np.array([(a, b, c) for (a, b, c) in zip(x, y, z)])\n",
    "pts = [pts]\n",
    "colors = window.colors.red\n",
    "wave_actor1 = actor.line(pts, colors, linewidth=3)\n",
    "scene.add(wave_actor1)\n",
    "\n",
    "vertices = utils.vertices_from_actor(wave_actor1)\n",
    "vcolors = utils.colors_from_actor(wave_actor1, 'colors')\n",
    "no_vertices_per_point = len(vertices)/npoints\n",
    "initial_vertices = vertices.copy() - \\\n",
    "    np.repeat(pts, no_vertices_per_point, axis=0)"
   ]
  },
  {
   "cell_type": "markdown",
   "metadata": {},
   "source": [
    "Creating point actor that renders the electric field\n",
    "\n"
   ]
  },
  {
   "cell_type": "code",
   "execution_count": null,
   "metadata": {},
   "outputs": [],
   "source": [
    "xx = np.linspace(-3, 3, npoints)\n",
    "yy = np.array([0 for i in range(npoints)])\n",
    "zz = np.sin(wavenumber*xx - angular_frq*time + phase_angle)\n",
    "\n",
    "pts2 = np.array([(a, b, c) for (a, b, c) in zip(xx, yy, zz)])\n",
    "pts2 = [pts2]\n",
    "colors2 = window.colors.blue\n",
    "wave_actor2 = actor.line(pts2, colors2, linewidth=3)\n",
    "scene.add(wave_actor2)\n",
    "\n",
    "vertices2 = utils.vertices_from_actor(wave_actor2)\n",
    "vcolors2 = utils.colors_from_actor(wave_actor2, 'colors')\n",
    "no_vertices_per_point2 = len(vertices2)/npoints\n",
    "initial_vertices2 = vertices2.copy() - \\\n",
    "    np.repeat(pts2, no_vertices_per_point2, axis=0)"
   ]
  },
  {
   "cell_type": "markdown",
   "metadata": {},
   "source": [
    "Initializing text box to display the title of the animation\n",
    "\n"
   ]
  },
  {
   "cell_type": "code",
   "execution_count": null,
   "metadata": {},
   "outputs": [],
   "source": [
    "tb = ui.TextBlock2D(bold=True, position=(160, 90))\n",
    "tb.message = \"Electromagnetic Wave\"\n",
    "scene.add(tb)"
   ]
  },
  {
   "cell_type": "markdown",
   "metadata": {},
   "source": [
    "end is used to decide when to end the animation\n",
    "\n"
   ]
  },
  {
   "cell_type": "code",
   "execution_count": null,
   "metadata": {},
   "outputs": [],
   "source": [
    "end = 300"
   ]
  },
  {
   "cell_type": "markdown",
   "metadata": {},
   "source": [
    "Initializing counter\n",
    "\n"
   ]
  },
  {
   "cell_type": "code",
   "execution_count": null,
   "metadata": {},
   "outputs": [],
   "source": [
    "counter = itertools.count()"
   ]
  },
  {
   "cell_type": "markdown",
   "metadata": {},
   "source": [
    "Coordinates to be plotted are changed everytime timer_callback is called by\n",
    "using the update_coordinates function. The wave is rendered here.\n",
    "\n"
   ]
  },
  {
   "cell_type": "code",
   "execution_count": null,
   "metadata": {},
   "outputs": [],
   "source": [
    "def timer_callback(_obj, _event):\n",
    "    global pts, pts2, time, time_incre, angular_frq, phase_angle, wavenumber\n",
    "    time += incre_time\n",
    "    cnt = next(counter)\n",
    "\n",
    "    x, y, z = update_coordinates(wavenumber, angular_frq, phase_angle, time)\n",
    "    pts = np.array([(a, b, c) for (a, b, c) in zip(x, y, z)])\n",
    "    vertices[:] = initial_vertices + \\\n",
    "        np.repeat(pts, no_vertices_per_point, axis=0)\n",
    "    utils.update_actor(wave_actor1)\n",
    "\n",
    "    xx, zz, yy = update_coordinates(wavenumber, angular_frq, phase_angle, time)\n",
    "    pts2 = np.array([(a, b, c) for (a, b, c) in zip(xx, yy, zz)])\n",
    "    vertices2[:] = initial_vertices2 + \\\n",
    "        np.repeat(pts2, no_vertices_per_point2, axis=0)\n",
    "    utils.update_actor(wave_actor2)\n",
    "\n",
    "    showm.render()\n",
    "\n",
    "    # to end the animation\n",
    "    if cnt == end:\n",
    "        showm.exit()"
   ]
  },
  {
   "cell_type": "markdown",
   "metadata": {},
   "source": [
    "Run every 25 milliseconds\n",
    "\n"
   ]
  },
  {
   "cell_type": "code",
   "execution_count": null,
   "metadata": {},
   "outputs": [],
   "source": [
    "showm.add_timer_callback(True, 25, timer_callback)\n",
    "\n",
    "interactive = False\n",
    "if interactive:\n",
    "    showm.start()\n",
    "window.record(showm.scene, size=(800, 600), out_path=\"viz_emwave.png\")"
   ]
  }
 ],
 "metadata": {
  "kernelspec": {
   "display_name": "Python 3 (ipykernel)",
   "language": "python",
   "name": "python3"
  },
  "language_info": {
   "codemirror_mode": {
    "name": "ipython",
    "version": 3
   },
   "file_extension": ".py",
   "mimetype": "text/x-python",
   "name": "python",
   "nbconvert_exporter": "python",
   "pygments_lexer": "ipython3",
   "version": "3.10.6"
  }
 },
 "nbformat": 4,
 "nbformat_minor": 1
}
